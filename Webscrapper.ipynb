{
 "cells": [
  {
   "cell_type": "code",
   "execution_count": 1,
   "metadata": {},
   "outputs": [],
   "source": [
    "from bs4 import BeautifulSoup\n",
    "import requests"
   ]
  },
  {
   "cell_type": "code",
   "execution_count": 2,
   "metadata": {},
   "outputs": [],
   "source": [
    "url = \"https://en.wikipedia.org/wiki/Carabaya_Province\"\n",
    "req = requests.get(url)"
   ]
  },
  {
   "cell_type": "code",
   "execution_count": 3,
   "metadata": {},
   "outputs": [],
   "source": [
    "soup = BeautifulSoup(req.text, \"html.parser\")"
   ]
  },
  {
   "cell_type": "code",
   "execution_count": 14,
   "metadata": {},
   "outputs": [
    {
     "name": "stdout",
     "output_type": "stream",
     "text": [
      "['District\\n', 'Mayor\\n', 'Capital\\n', 'Ubigeo\\n']\n"
     ]
    }
   ],
   "source": [
    "table = soup.find('table',class_='wikitable sortable')\n",
    "ths = table.tbody.tr.find_all('th')\n",
    "headers = []\n",
    "for th in ths:\n",
    "    headers.append(th.text)\n",
    "    \n",
    "print(headers)"
   ]
  },
  {
   "cell_type": "code",
   "execution_count": 15,
   "metadata": {},
   "outputs": [
    {
     "name": "stdout",
     "output_type": "stream",
     "text": [
      "[[], ['Ajoyani\\n', 'Pedro Cutipa Quispe\\n', 'Ajoyani\\n', '210302\\n'], ['Ayapata\\n', 'Hector Arraya Cuba\\n', 'Ayapata\\n', '210303\\n'], ['Coasa\\n', 'N\\n', 'Coasa\\n', '210304\\n'], ['Corani\\n', 'Edmundo caceres Guerra\\n', 'Corani\\n', '210305\\n'], ['Crucero\\n', 'Max caceres Chui\\n', 'Crucero\\n', '210306\\n'], ['Ituata\\n', 'N\\n', 'Ituata\\n', '210307\\n'], ['Macusani\\n', 'Augusto Ronald Gutierrez rodrigo\\n', 'Macusani\\n', '210301\\n'], ['Ollachea\\n', 'Juan Huayta C\\n', 'Ollachea\\n', '210308\\n'], ['San Gaban\\n', 'Adolfo Huamantica\\n', 'Lanlacuni Bajo\\n', '210309\\n'], ['Usicayos\\n', 'N\\n', 'Usicayos\\n', '210310\\n']]\n"
     ]
    }
   ],
   "source": [
    "trs = table.tbody.find_all('tr')\n",
    "rows = []\n",
    "for tr in trs:\n",
    "    tds = tr.find_all('td')\n",
    "    len(tds)\n",
    "    cols = []\n",
    "    for td in tds:\n",
    "        cols.append(td.text)\n",
    "    rows.append(cols)\n",
    "    \n",
    "print(rows)\n",
    "    "
   ]
  },
  {
   "cell_type": "code",
   "execution_count": 23,
   "metadata": {},
   "outputs": [
    {
     "name": "stdout",
     "output_type": "stream",
     "text": [
      "[['Ayapata', 'Hector Arraya Cuba', 'Ayapata', '210303'], ['Coasa', 'N', 'Coasa', '210304'], ['Corani', 'Edmundo caceres Guerra', 'Corani', '210305'], ['Crucero', 'Max caceres Chui', 'Crucero', '210306'], ['Ituata', 'N', 'Ituata', '210307'], ['Macusani', 'Augusto Ronald Gutierrez rodrigo', 'Macusani', '210301'], ['Ollachea', 'Juan Huayta C', 'Ollachea', '210308'], ['San Gaban', 'Adolfo Huamantica', 'Lanlacuni Bajo', '210309'], ['Usicayos', 'N', 'Usicayos', '210310']]\n"
     ]
    }
   ],
   "source": [
    "headers_new = []\n",
    "for header in headers:\n",
    "    headers_new.append(header[:-1])\n",
    "    \n",
    "rows = rows[1:]\n",
    "body=[]\n",
    "for row in rows:\n",
    "    words = []\n",
    "    for word in row:\n",
    "        words.append(word[:-1])\n",
    "    body.append(words)\n",
    "    \n",
    "print(body)"
   ]
  },
  {
   "cell_type": "code",
   "execution_count": 16,
   "metadata": {},
   "outputs": [],
   "source": [
    "import pandas as pd"
   ]
  },
  {
   "cell_type": "code",
   "execution_count": 24,
   "metadata": {},
   "outputs": [
    {
     "name": "stdout",
     "output_type": "stream",
     "text": [
      "    District                             Mayor         Capital  Ubigeo\n",
      "0    Ayapata                Hector Arraya Cuba         Ayapata  210303\n",
      "1      Coasa                                 N           Coasa  210304\n",
      "2     Corani            Edmundo caceres Guerra          Corani  210305\n",
      "3    Crucero                  Max caceres Chui         Crucero  210306\n",
      "4     Ituata                                 N          Ituata  210307\n",
      "5   Macusani  Augusto Ronald Gutierrez rodrigo        Macusani  210301\n",
      "6   Ollachea                     Juan Huayta C        Ollachea  210308\n",
      "7  San Gaban                 Adolfo Huamantica  Lanlacuni Bajo  210309\n",
      "8   Usicayos                                 N        Usicayos  210310\n"
     ]
    }
   ],
   "source": [
    "df = pd.DataFrame(columns=headers_new, data=body)\n",
    "print(df)"
   ]
  },
  {
   "cell_type": "code",
   "execution_count": 25,
   "metadata": {},
   "outputs": [],
   "source": [
    "df.to_csv('table.csv', index=False)"
   ]
  },
  {
   "cell_type": "code",
   "execution_count": null,
   "metadata": {},
   "outputs": [],
   "source": []
  }
 ],
 "metadata": {
  "kernelspec": {
   "display_name": "Python 3",
   "language": "python",
   "name": "python3"
  },
  "language_info": {
   "codemirror_mode": {
    "name": "ipython",
    "version": 3
   },
   "file_extension": ".py",
   "mimetype": "text/x-python",
   "name": "python",
   "nbconvert_exporter": "python",
   "pygments_lexer": "ipython3",
   "version": "3.7.6"
  }
 },
 "nbformat": 4,
 "nbformat_minor": 4
}
